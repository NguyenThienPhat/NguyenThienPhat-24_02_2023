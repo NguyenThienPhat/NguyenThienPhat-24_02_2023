{
  "nbformat": 4,
  "nbformat_minor": 0,
  "metadata": {
    "colab": {
      "provenance": [],
      "gpuType": "T4",
      "authorship_tag": "ABX9TyMHRXO2eVaxqAqb9dzibuzF",
      "include_colab_link": true
    },
    "kernelspec": {
      "name": "python3",
      "display_name": "Python 3"
    },
    "language_info": {
      "name": "python"
    },
    "accelerator": "GPU",
    "gpuClass": "standard"
  },
  "cells": [
    {
      "cell_type": "markdown",
      "metadata": {
        "id": "view-in-github",
        "colab_type": "text"
      },
      "source": [
        "<a href=\"https://colab.research.google.com/github/NguyenThienPhat/NguyenThienPhat-24_02_2023/blob/main/CNN_cifar10_w11.ipynb\" target=\"_parent\"><img src=\"https://colab.research.google.com/assets/colab-badge.svg\" alt=\"Open In Colab\"/></a>"
      ]
    },
    {
      "cell_type": "code",
      "execution_count": null,
      "metadata": {
        "id": "WKRvhfLvQr4p"
      },
      "outputs": [],
      "source": [
        "import matplotlib.pyplot as plt\n",
        "import numpy as np\n",
        "from keras.datasets import cifar10\n",
        "from keras.layers import Dense\n",
        "from keras.models import Sequential\n",
        "from keras.utils import to_categorical\n",
        "\n",
        "(x_train, y_train), (x_test, y_test) = cifar10.load_data()"
      ]
    },
    {
      "cell_type": "code",
      "source": [
        "\n",
        "x_train = x_train.astype('float32')/255\n",
        "x_test = x_test.astype('float32')/255\n",
        "print(x_train.shape)\n",
        "print(x_test.shape)\n",
        "print(y_test.shape)"
      ],
      "metadata": {
        "colab": {
          "base_uri": "https://localhost:8080/"
        },
        "id": "lRbsvettRt6g",
        "outputId": "cd55e468-7397-4bcc-e539-46756b6c2a22"
      },
      "execution_count": null,
      "outputs": [
        {
          "output_type": "stream",
          "name": "stdout",
          "text": [
            "(50000, 32, 32, 3)\n",
            "(10000, 32, 32, 3)\n",
            "(10000, 1)\n"
          ]
        }
      ]
    },
    {
      "cell_type": "code",
      "source": [
        "\n",
        "from keras.utils import to_categorical\n",
        "y_train = to_categorical(y_train, 10)\n",
        "y_test = to_categorical(y_test, 10)\n",
        "\n",
        "from keras.models import Sequential, Model\n",
        "from keras.layers import Dense, Dropout, Flatten, Conv2D, MaxPooling2D, Normalization, LeakyReLU\n",
        "from keras.optimizers import Adam\n",
        "from keras.layers.serialization import activation"
      ],
      "metadata": {
        "id": "bMiiS3YrSRbs"
      },
      "execution_count": null,
      "outputs": []
    },
    {
      "cell_type": "code",
      "source": [
        "model = Sequential()\n",
        "model = Sequential()\n",
        "model.add(Conv2D(32, kernel_size=(3, 3), activation='linear', input_shape=(32, 32, 3), padding='same'))\n",
        "model.add(LeakyReLU(alpha=0.1))\n",
        "model.add(MaxPooling2D((2, 2), padding='same'))\n",
        "\n",
        "model.add(Conv2D(64, (3, 3), activation='linear', padding='same'))\n",
        "model.add(LeakyReLU(alpha=0.1))\n",
        "model.add(MaxPooling2D((2, 2), padding='same'))\n",
        "\n",
        "model.add(Conv2D(128, (3, 3), activation='linear', padding='same'))\n",
        "model.add(LeakyReLU(alpha=0.1))\n",
        "model.add(MaxPooling2D((2, 2), padding='same'))\n",
        "\n",
        "model.add(Flatten())\n",
        "model.add(Dense(128, activation='linear'))\n",
        "model.add(LeakyReLU(alpha=0.1))\n",
        "model.add(Dense(10, activation='softmax'))"
      ],
      "metadata": {
        "id": "ON3FNWMSSYEK"
      },
      "execution_count": null,
      "outputs": []
    },
    {
      "cell_type": "code",
      "source": [
        "from keras.losses import categorical_crossentropy\n",
        "model.compile(loss = categorical_crossentropy,\n",
        "              optimizer = Adam(),\n",
        "              metrics = ['accuracy'])\n",
        "train = model.fit(x_train, y_train, batch_size = 64, epochs = 20, verbose = 1)"
      ],
      "metadata": {
        "id": "_N__YykeTN0V",
        "colab": {
          "base_uri": "https://localhost:8080/"
        },
        "outputId": "177d66cf-bde7-4c0a-cd20-944156424bf3"
      },
      "execution_count": null,
      "outputs": [
        {
          "output_type": "stream",
          "name": "stdout",
          "text": [
            "Epoch 1/20\n",
            "782/782 [==============================] - 12s 5ms/step - loss: 1.4041 - accuracy: 0.4921\n",
            "Epoch 2/20\n",
            "782/782 [==============================] - 4s 5ms/step - loss: 0.9389 - accuracy: 0.6704\n",
            "Epoch 3/20\n",
            "782/782 [==============================] - 5s 6ms/step - loss: 0.7624 - accuracy: 0.7346\n",
            "Epoch 4/20\n",
            "782/782 [==============================] - 4s 5ms/step - loss: 0.6324 - accuracy: 0.7805\n",
            "Epoch 5/20\n",
            "782/782 [==============================] - 4s 5ms/step - loss: 0.5338 - accuracy: 0.8130\n",
            "Epoch 6/20\n",
            "782/782 [==============================] - 4s 6ms/step - loss: 0.4317 - accuracy: 0.8486\n",
            "Epoch 7/20\n",
            "782/782 [==============================] - 4s 5ms/step - loss: 0.3535 - accuracy: 0.8778\n",
            "Epoch 8/20\n",
            "782/782 [==============================] - 4s 5ms/step - loss: 0.2835 - accuracy: 0.9016\n",
            "Epoch 9/20\n",
            "782/782 [==============================] - 4s 5ms/step - loss: 0.2197 - accuracy: 0.9234\n",
            "Epoch 10/20\n",
            "782/782 [==============================] - 4s 5ms/step - loss: 0.1773 - accuracy: 0.9373\n",
            "Epoch 11/20\n",
            "782/782 [==============================] - 4s 5ms/step - loss: 0.1441 - accuracy: 0.9497\n",
            "Epoch 12/20\n",
            "782/782 [==============================] - 4s 5ms/step - loss: 0.1243 - accuracy: 0.9570\n",
            "Epoch 13/20\n",
            "782/782 [==============================] - 4s 5ms/step - loss: 0.1063 - accuracy: 0.9618\n",
            "Epoch 14/20\n",
            "782/782 [==============================] - 4s 6ms/step - loss: 0.0972 - accuracy: 0.9657\n",
            "Epoch 15/20\n",
            "782/782 [==============================] - 4s 5ms/step - loss: 0.0912 - accuracy: 0.9680\n",
            "Epoch 16/20\n",
            "782/782 [==============================] - 4s 5ms/step - loss: 0.0861 - accuracy: 0.9694\n",
            "Epoch 17/20\n",
            "782/782 [==============================] - 4s 5ms/step - loss: 0.0726 - accuracy: 0.9744\n",
            "Epoch 18/20\n",
            "782/782 [==============================] - 4s 5ms/step - loss: 0.0714 - accuracy: 0.9750\n",
            "Epoch 19/20\n",
            "782/782 [==============================] - 4s 6ms/step - loss: 0.0752 - accuracy: 0.9731\n",
            "Epoch 20/20\n",
            "782/782 [==============================] - 4s 5ms/step - loss: 0.0727 - accuracy: 0.9741\n"
          ]
        }
      ]
    },
    {
      "cell_type": "code",
      "source": [
        "X = x_test\n",
        "y = y_test\n",
        "\n",
        "i = 9 \n",
        "img = X[i].reshape(1, 32, 32, 3)\n",
        "matrix = np.argmax(model.predict(img), axis=-1)\n",
        "\n",
        "plt.imshow(X[i].reshape(32,32,3))\n",
        "plt.show()\n",
        "class_names = [\"Máy bay\", \"Ô tô\", \"Chim\", \"Mèo\", \"Nai\", \"Chó\", \"Ếch\", \"Ngựa\", \"Tàu thủy\", \"Xe tải\"]\n",
        "temp1 = matrix[0]\n",
        "print(\"Label: \", class_names[temp1])\n",
        "\n"
      ],
      "metadata": {
        "id": "H_cNDIA5T8zK",
        "colab": {
          "base_uri": "https://localhost:8080/",
          "height": 465
        },
        "outputId": "dacbe76c-1f47-48aa-9114-4159abdbfd02"
      },
      "execution_count": null,
      "outputs": [
        {
          "output_type": "stream",
          "name": "stdout",
          "text": [
            "1/1 [==============================] - 0s 35ms/step\n"
          ]
        },
        {
          "output_type": "display_data",
          "data": {
            "text/plain": [
              "<Figure size 640x480 with 1 Axes>"
            ],
            "image/png": "[encoded data removed]"
          },
          "metadata": {}
        },
        {
          "output_type": "stream",
          "name": "stdout",
          "text": [
            "Label:  Ô tô\n"
          ]
        }
      ]
    },
    {
      "cell_type": "code",
      "source": [
        "from PIL import Image\n",
        "img = Image.open('/content/maybay.jpg')\n",
        "img = img.resize((32, 32))\n",
        "img = np.asarray(img)\n",
        "img = img.reshape(1,32,32,3)\n",
        "img = img.astype('float32') / 255.0\n",
        "plt.imshow(img.reshape(32,32,3))\n",
        "plt.show()\n",
        "matrix = np.argmax(model.predict(img), axis=-1)\n",
        "class_names = [\"Máy bay\", \"Ô tô\", \"Chim\", \"Mèo\", \"Nai\", \"Chó\", \"Ếch\", \"Ngựa\", \"Tàu thủy\", \"Xe tải\"]\n",
        "temp1 = matrix[0]\n",
        "print(temp1)\n",
        "print(\"Label: \", class_names[temp1])"
      ],
      "metadata": {
        "colab": {
          "base_uri": "https://localhost:8080/",
          "height": 482
        },
        "id": "R1YyK7wW8qJR",
        "outputId": "e952d2d4-d96b-4fdf-ccc4-a3d853b39ff9"
      },
      "execution_count": null,
      "outputs": [
        {
          "output_type": "display_data",
          "data": {
            "text/plain": [
              "<Figure size 640x480 with 1 Axes>"
            ],
            "image/png": "[encoded data removed]"
          },
          "metadata": {}
        },
        {
          "output_type": "stream",
          "name": "stdout",
          "text": [
            "1/1 [==============================] - 0s 32ms/step\n",
            "0\n",
            "Label:  Máy bay\n"
          ]
        }
      ]
    },
    {
      "cell_type": "code",
      "source": [
        "img = Image.open('/content/nguacnn.jpg')\n",
        "img = img.resize((32, 32))\n",
        "img = np.asarray(img)\n",
        "img = img.reshape(1,32,32,3)\n",
        "img = img.astype('float32') / 255.0\n",
        "plt.imshow(img.reshape(32,32,3))\n",
        "plt.show()\n",
        "matrix = np.argmax(model.predict(img), axis=-1)\n",
        "class_names = [\"Máy bay\", \"Ô tô\", \"Chim\", \"Mèo\", \"Nai\", \"Chó\", \"Ếch\", \"Ngựa\", \"Tàu thủy\", \"Xe tải\"]\n",
        "temp1 = matrix[0]\n",
        "print(temp1)\n",
        "print(\"Label: \", class_names[temp1])"
      ],
      "metadata": {
        "colab": {
          "base_uri": "https://localhost:8080/",
          "height": 482
        },
        "id": "jstyDJFr-CSS",
        "outputId": "d6cfe690-27b1-4bba-8d63-c70d84be9fbd"
      },
      "execution_count": null,
      "outputs": [
        {
          "output_type": "display_data",
          "data": {
            "text/plain": [
              "<Figure size 640x480 with 1 Axes>"
            ],
            "image/png": "[encoded data removed]"
          },
          "metadata": {}
        },
        {
          "output_type": "stream",
          "name": "stdout",
          "text": [
            "1/1 [==============================] - 0s 104ms/step\n",
            "7\n",
            "Label:  Ngựa\n"
          ]
        }
      ]
    },
    {
      "cell_type": "code",
      "source": [],
      "metadata": {
        "id": "5M7qInDd-jYj"
      },
      "execution_count": null,
      "outputs": []
    }
  ]
}